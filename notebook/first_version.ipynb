{
 "cells": [
  {
   "cell_type": "code",
   "execution_count": 1,
   "metadata": {
    "collapsed": true
   },
   "outputs": [],
   "source": [
    "%matplotlib inline"
   ]
  },
  {
   "cell_type": "code",
   "execution_count": 2,
   "metadata": {
    "collapsed": true
   },
   "outputs": [],
   "source": [
    "from PIL import Image as pil_image\n",
    "from matplotlib.pyplot import imshow\n",
    "import numpy as np\n",
    "import pandas\n",
    "import progressbar\n",
    "import requests\n",
    "import os\n",
    "import shutil\n",
    "import random\n",
    "from sklearn.model_selection import train_test_split"
   ]
  },
  {
   "cell_type": "code",
   "execution_count": 3,
   "metadata": {},
   "outputs": [
    {
     "name": "stderr",
     "output_type": "stream",
     "text": [
      "Using TensorFlow backend.\n"
     ]
    }
   ],
   "source": [
    "from keras.utils import np_utils\n",
    "from keras.models import Sequential\n",
    "from keras.layers import Dense, Dropout, Activation, Flatten\n",
    "from keras.layers import Conv2D, MaxPooling2D\n",
    "from keras.optimizers import SGD"
   ]
  },
  {
   "cell_type": "code",
   "execution_count": 4,
   "metadata": {
    "collapsed": true
   },
   "outputs": [],
   "source": [
    "cycle = 72\n",
    "image_width = 128\n",
    "image_height = 96"
   ]
  },
  {
   "cell_type": "code",
   "execution_count": 5,
   "metadata": {
    "collapsed": true
   },
   "outputs": [],
   "source": [
    "# get csv of sensors and photos and correlate watermark to photos \n",
    "from bootstrap_cress import get_csv_files\n",
    "get_csv_files(cycle)"
   ]
  },
  {
   "cell_type": "code",
   "execution_count": 6,
   "metadata": {
    "collapsed": true
   },
   "outputs": [],
   "source": [
    "def get_photo(url):\n",
    "    fn = url.split('/')[-1]\n",
    "    cycle = url.split('/')[-2]\n",
    "    dirname = os.path.join('data/photo', cycle)\n",
    "    os.makedirs(dirname, exist_ok=True)\n",
    "    filename = os.path.join(dirname, fn)\n",
    "    if not os.path.exists(filename):\n",
    "        response = requests.get(url, stream=True)\n",
    "        with open(filename, 'wb') as fp:\n",
    "            shutil.copyfileobj(response.raw, fp)\n",
    "        del response\n",
    "    return filename"
   ]
  },
  {
   "cell_type": "code",
   "execution_count": 7,
   "metadata": {
    "collapsed": true
   },
   "outputs": [],
   "source": [
    "def load_image(fn):\n",
    "    img = pil_image.open(fn)\n",
    "    img = img.resize([image_width, image_height])\n",
    "    img_a = np.asarray(img)\n",
    "    return img_a"
   ]
  },
  {
   "cell_type": "code",
   "execution_count": 8,
   "metadata": {
    "collapsed": true
   },
   "outputs": [],
   "source": [
    "def img_cache(url, cycle):\n",
    "    fn = url.split('/')[-1].split('.')[0] + '-' + str(image_width) + '.npz'\n",
    "    dirname = os.path.join('data/cache', str(cycle))\n",
    "    os.makedirs(dirname, exist_ok=True)\n",
    "    filename = os.path.join(dirname, fn)\n",
    "    if not os.path.exists(filename):\n",
    "        img_a = load_image(get_photo(photo_ds['photo']))\n",
    "        # x = img_a.transpose(2, 0, 1)\n",
    "        x = img_a.astype('float32')/255\n",
    "        np.savez(filename, x=x)\n",
    "        return x\n",
    "    npzfile = np.load(filename)\n",
    "    return npzfile['x']"
   ]
  },
  {
   "cell_type": "code",
   "execution_count": 9,
   "metadata": {},
   "outputs": [
    {
     "name": "stderr",
     "output_type": "stream",
     "text": [
      "100% (2008 of 2008) |#####################| Elapsed Time: 0:00:04 Time: 0:00:04\n"
     ]
    }
   ],
   "source": [
    "df_photos = pandas.read_csv(\"data/photo_cycle_{}_enriched.csv\".format(cycle))\n",
    "bar = progressbar.ProgressBar(max_value=len(df_photos))\n",
    "x = []\n",
    "y = []\n",
    "for idx, photo_ds in bar(df_photos.iterrows()):\n",
    "    url = photo_ds['photo']\n",
    "    if photo_ds['watermark'] > 8000:\n",
    "        cls = 1\n",
    "    else:\n",
    "        cls = 0\n",
    "    x.append(img_cache(url, cycle))\n",
    "    y.append(cls)"
   ]
  },
  {
   "cell_type": "code",
   "execution_count": 10,
   "metadata": {
    "collapsed": true
   },
   "outputs": [],
   "source": [
    "X = np.array(x)"
   ]
  },
  {
   "cell_type": "code",
   "execution_count": 11,
   "metadata": {
    "collapsed": true
   },
   "outputs": [],
   "source": [
    "Y = np_utils.to_categorical(y)"
   ]
  },
  {
   "cell_type": "code",
   "execution_count": 12,
   "metadata": {
    "collapsed": true
   },
   "outputs": [],
   "source": [
    "X_train, X_test, Y_train, Y_test = train_test_split(X, Y, test_size=0.2, random_state=42)"
   ]
  },
  {
   "cell_type": "code",
   "execution_count": 13,
   "metadata": {
    "collapsed": true
   },
   "outputs": [],
   "source": [
    "model = Sequential()\n",
    " \n",
    "model.add(Conv2D(32, (3, 3), input_shape=(image_height, image_width, 3)))\n",
    "model.add(Activation('relu'))\n",
    "model.add(Conv2D(32, (3, 3)))\n",
    "model.add(Activation('relu'))\n",
    "model.add(MaxPooling2D(pool_size=(2, 2)))\n",
    "model.add(Dropout(0.25))\n",
    "          \n",
    "model.add(Flatten())\n",
    "model.add(Dense(64, activation='relu'))\n",
    "model.add(Dropout(0.5)) \n",
    "model.add(Dense(2, activation='softmax'))"
   ]
  },
  {
   "cell_type": "code",
   "execution_count": 14,
   "metadata": {
    "collapsed": true
   },
   "outputs": [],
   "source": [
    "model.compile(loss='binary_crossentropy',\n",
    "              optimizer='adam',\n",
    "              metrics=['accuracy'])"
   ]
  },
  {
   "cell_type": "code",
   "execution_count": 15,
   "metadata": {},
   "outputs": [
    {
     "name": "stdout",
     "output_type": "stream",
     "text": [
      "Train on 1606 samples, validate on 402 samples\n",
      "Epoch 1/10\n",
      "72s - loss: 0.4392 - acc: 0.8543 - val_loss: 0.2534 - val_acc: 0.8781\n",
      "Epoch 2/10\n",
      "71s - loss: 0.2015 - acc: 0.9072 - val_loss: 0.1676 - val_acc: 0.9328\n",
      "Epoch 3/10\n",
      "71s - loss: 0.1617 - acc: 0.9197 - val_loss: 0.1170 - val_acc: 0.9552\n",
      "Epoch 4/10\n",
      "75s - loss: 0.1322 - acc: 0.9421 - val_loss: 0.1224 - val_acc: 0.9453\n",
      "Epoch 5/10\n",
      "70s - loss: 0.1084 - acc: 0.9545 - val_loss: 0.0958 - val_acc: 0.9751\n",
      "Epoch 6/10\n",
      "72s - loss: 0.0975 - acc: 0.9539 - val_loss: 0.1008 - val_acc: 0.9701\n",
      "Epoch 7/10\n",
      "93s - loss: 0.0877 - acc: 0.9645 - val_loss: 0.0871 - val_acc: 0.9751\n",
      "Epoch 8/10\n",
      "77s - loss: 0.0789 - acc: 0.9676 - val_loss: 0.0920 - val_acc: 0.9602\n",
      "Epoch 9/10\n",
      "71s - loss: 0.0681 - acc: 0.9720 - val_loss: 0.0863 - val_acc: 0.9701\n",
      "Epoch 10/10\n",
      "70s - loss: 0.0600 - acc: 0.9720 - val_loss: 0.0945 - val_acc: 0.9677\n"
     ]
    },
    {
     "data": {
      "text/plain": [
       "<keras.callbacks.History at 0x7f5c4e2a3978>"
      ]
     },
     "execution_count": 15,
     "metadata": {},
     "output_type": "execute_result"
    }
   ],
   "source": [
    "# 9. Fit model on training data\n",
    "model.fit(X_train, Y_train, epochs=10, verbose=2, batch_size=32, \n",
    "          validation_data=(X_test, Y_test))"
   ]
  },
  {
   "cell_type": "code",
   "execution_count": 16,
   "metadata": {},
   "outputs": [
    {
     "data": {
      "text/plain": [
       "array([[ 0.45113814,  0.54886186]], dtype=float32)"
      ]
     },
     "execution_count": 16,
     "metadata": {},
     "output_type": "execute_result"
    }
   ],
   "source": [
    "model.predict(X_test[42:43])"
   ]
  },
  {
   "cell_type": "code",
   "execution_count": 17,
   "metadata": {},
   "outputs": [
    {
     "data": {
      "text/plain": [
       "array([ 0.,  1.])"
      ]
     },
     "execution_count": 17,
     "metadata": {},
     "output_type": "execute_result"
    }
   ],
   "source": [
    "Y_test[42]"
   ]
  },
  {
   "cell_type": "code",
   "execution_count": 18,
   "metadata": {},
   "outputs": [
    {
     "name": "stdout",
     "output_type": "stream",
     "text": [
      "_________________________________________________________________\n",
      "Layer (type)                 Output Shape              Param #   \n",
      "=================================================================\n",
      "conv2d_1 (Conv2D)            (None, 94, 126, 32)       896       \n",
      "_________________________________________________________________\n",
      "activation_1 (Activation)    (None, 94, 126, 32)       0         \n",
      "_________________________________________________________________\n",
      "conv2d_2 (Conv2D)            (None, 92, 124, 32)       9248      \n",
      "_________________________________________________________________\n",
      "activation_2 (Activation)    (None, 92, 124, 32)       0         \n",
      "_________________________________________________________________\n",
      "max_pooling2d_1 (MaxPooling2 (None, 46, 62, 32)        0         \n",
      "_________________________________________________________________\n",
      "dropout_1 (Dropout)          (None, 46, 62, 32)        0         \n",
      "_________________________________________________________________\n",
      "flatten_1 (Flatten)          (None, 91264)             0         \n",
      "_________________________________________________________________\n",
      "dense_1 (Dense)              (None, 64)                5840960   \n",
      "_________________________________________________________________\n",
      "dropout_2 (Dropout)          (None, 64)                0         \n",
      "_________________________________________________________________\n",
      "dense_2 (Dense)              (None, 2)                 130       \n",
      "=================================================================\n",
      "Total params: 5,851,234\n",
      "Trainable params: 5,851,234\n",
      "Non-trainable params: 0\n",
      "_________________________________________________________________\n"
     ]
    }
   ],
   "source": [
    "model.summary()"
   ]
  },
  {
   "cell_type": "code",
   "execution_count": 19,
   "metadata": {
    "collapsed": true
   },
   "outputs": [],
   "source": [
    "model.save('data/model_v1_{}_{}_dense64_conv32.h5'.format(cycle, image_width))"
   ]
  },
  {
   "cell_type": "code",
   "execution_count": null,
   "metadata": {
    "collapsed": true
   },
   "outputs": [],
   "source": []
  }
 ],
 "metadata": {
  "kernelspec": {
   "display_name": "Python 3",
   "language": "python",
   "name": "python3"
  },
  "language_info": {
   "codemirror_mode": {
    "name": "ipython",
    "version": 3
   },
   "file_extension": ".py",
   "mimetype": "text/x-python",
   "name": "python",
   "nbconvert_exporter": "python",
   "pygments_lexer": "ipython3",
   "version": "3.6.1"
  }
 },
 "nbformat": 4,
 "nbformat_minor": 2
}
