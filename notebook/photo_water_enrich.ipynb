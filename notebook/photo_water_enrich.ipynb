{
 "cells": [
  {
   "cell_type": "code",
   "execution_count": 1,
   "metadata": {},
   "outputs": [
    {
     "name": "stdout",
     "output_type": "stream",
     "text": [
      "Collecting progressbar2\n",
      "  Downloading progressbar2-3.30.2-py2.py3-none-any.whl\n",
      "Collecting python-utils>=2.1.0 (from progressbar2)\n",
      "  Downloading python_utils-2.1.0-py2.py3-none-any.whl\n",
      "Requirement already satisfied: six in /opt/conda/lib/python3.6/site-packages (from python-utils>=2.1.0->progressbar2)\n",
      "Installing collected packages: python-utils, progressbar2\n",
      "Successfully installed progressbar2-3.30.2 python-utils-2.1.0\n"
     ]
    }
   ],
   "source": [
    "!pip install progressbar2\n",
    "import progressbar"
   ]
  },
  {
   "cell_type": "code",
   "execution_count": 2,
   "metadata": {
    "collapsed": true
   },
   "outputs": [],
   "source": [
    "import pandas"
   ]
  },
  {
   "cell_type": "code",
   "execution_count": 14,
   "metadata": {},
   "outputs": [],
   "source": [
    "cycle = 72\n",
    "df_sensors = pandas.read_csv(\"data/cycle_{}.csv\".format(cycle))\n",
    "df_water = df_sensors[(df_sensors['sensor_type']=='FC28') & (df_sensors['value_type']=='watermark')]"
   ]
  },
  {
   "cell_type": "code",
   "execution_count": 15,
   "metadata": {
    "collapsed": true
   },
   "outputs": [],
   "source": [
    "df_photos = pandas.read_csv(\"data/photo_cycle_{}.csv\".format(cycle))\n",
    "df_photos['watermark'] = 0"
   ]
  },
  {
   "cell_type": "code",
   "execution_count": 16,
   "metadata": {},
   "outputs": [
    {
     "data": {
      "text/html": [
       "<div>\n",
       "<table border=\"1\" class=\"dataframe\">\n",
       "  <thead>\n",
       "    <tr style=\"text-align: right;\">\n",
       "      <th></th>\n",
       "      <th>id</th>\n",
       "      <th>photo</th>\n",
       "      <th>created</th>\n",
       "      <th>seconds_from_cycle_start</th>\n",
       "      <th>watermark</th>\n",
       "    </tr>\n",
       "  </thead>\n",
       "  <tbody>\n",
       "    <tr>\n",
       "      <th>0</th>\n",
       "      <td>267123</td>\n",
       "      <td>https://cress.space/media/photo/c72/1488132601...</td>\n",
       "      <td>2017-02-26T18:10:17.231219Z</td>\n",
       "      <td>602523</td>\n",
       "      <td>0</td>\n",
       "    </tr>\n",
       "    <tr>\n",
       "      <th>1</th>\n",
       "      <td>267119</td>\n",
       "      <td>https://cress.space/media/photo/c72/1488132301...</td>\n",
       "      <td>2017-02-26T18:05:16.970436Z</td>\n",
       "      <td>602223</td>\n",
       "      <td>0</td>\n",
       "    </tr>\n",
       "    <tr>\n",
       "      <th>2</th>\n",
       "      <td>267113</td>\n",
       "      <td>https://cress.space/media/photo/c72/1488132001...</td>\n",
       "      <td>2017-02-26T18:00:13.378223Z</td>\n",
       "      <td>601919</td>\n",
       "      <td>0</td>\n",
       "    </tr>\n",
       "    <tr>\n",
       "      <th>3</th>\n",
       "      <td>267109</td>\n",
       "      <td>https://cress.space/media/photo/c72/1488131701...</td>\n",
       "      <td>2017-02-26T17:55:12.428359Z</td>\n",
       "      <td>601618</td>\n",
       "      <td>0</td>\n",
       "    </tr>\n",
       "    <tr>\n",
       "      <th>4</th>\n",
       "      <td>267107</td>\n",
       "      <td>https://cress.space/media/photo/c72/1488131401...</td>\n",
       "      <td>2017-02-26T17:50:18.687203Z</td>\n",
       "      <td>601325</td>\n",
       "      <td>0</td>\n",
       "    </tr>\n",
       "  </tbody>\n",
       "</table>\n",
       "</div>"
      ],
      "text/plain": [
       "       id                                              photo  \\\n",
       "0  267123  https://cress.space/media/photo/c72/1488132601...   \n",
       "1  267119  https://cress.space/media/photo/c72/1488132301...   \n",
       "2  267113  https://cress.space/media/photo/c72/1488132001...   \n",
       "3  267109  https://cress.space/media/photo/c72/1488131701...   \n",
       "4  267107  https://cress.space/media/photo/c72/1488131401...   \n",
       "\n",
       "                       created  seconds_from_cycle_start  watermark  \n",
       "0  2017-02-26T18:10:17.231219Z                    602523          0  \n",
       "1  2017-02-26T18:05:16.970436Z                    602223          0  \n",
       "2  2017-02-26T18:00:13.378223Z                    601919          0  \n",
       "3  2017-02-26T17:55:12.428359Z                    601618          0  \n",
       "4  2017-02-26T17:50:18.687203Z                    601325          0  "
      ]
     },
     "execution_count": 16,
     "metadata": {},
     "output_type": "execute_result"
    }
   ],
   "source": [
    "df_photos.head()"
   ]
  },
  {
   "cell_type": "code",
   "execution_count": 17,
   "metadata": {},
   "outputs": [
    {
     "data": {
      "text/html": [
       "<div>\n",
       "<table border=\"1\" class=\"dataframe\">\n",
       "  <thead>\n",
       "    <tr style=\"text-align: right;\">\n",
       "      <th></th>\n",
       "      <th>sensor_type</th>\n",
       "      <th>value_type</th>\n",
       "      <th>position</th>\n",
       "      <th>unit</th>\n",
       "      <th>value</th>\n",
       "      <th>created</th>\n",
       "      <th>seconds_from_cycle_start</th>\n",
       "    </tr>\n",
       "  </thead>\n",
       "  <tbody>\n",
       "    <tr>\n",
       "      <th>1</th>\n",
       "      <td>FC28</td>\n",
       "      <td>watermark</td>\n",
       "      <td>inside</td>\n",
       "      <td>-</td>\n",
       "      <td>7506.0</td>\n",
       "      <td>2017-02-26T18:10:25.527352Z</td>\n",
       "      <td>602531</td>\n",
       "    </tr>\n",
       "    <tr>\n",
       "      <th>8</th>\n",
       "      <td>FC28</td>\n",
       "      <td>watermark</td>\n",
       "      <td>inside</td>\n",
       "      <td>-</td>\n",
       "      <td>7866.0</td>\n",
       "      <td>2017-02-26T18:05:24.046715Z</td>\n",
       "      <td>602230</td>\n",
       "    </tr>\n",
       "    <tr>\n",
       "      <th>15</th>\n",
       "      <td>FC28</td>\n",
       "      <td>watermark</td>\n",
       "      <td>inside</td>\n",
       "      <td>-</td>\n",
       "      <td>7911.0</td>\n",
       "      <td>2017-02-26T18:00:20.767143Z</td>\n",
       "      <td>601927</td>\n",
       "    </tr>\n",
       "    <tr>\n",
       "      <th>22</th>\n",
       "      <td>FC28</td>\n",
       "      <td>watermark</td>\n",
       "      <td>inside</td>\n",
       "      <td>-</td>\n",
       "      <td>7906.0</td>\n",
       "      <td>2017-02-26T17:55:21.099111Z</td>\n",
       "      <td>601627</td>\n",
       "    </tr>\n",
       "    <tr>\n",
       "      <th>29</th>\n",
       "      <td>FC28</td>\n",
       "      <td>watermark</td>\n",
       "      <td>inside</td>\n",
       "      <td>-</td>\n",
       "      <td>7890.0</td>\n",
       "      <td>2017-02-26T17:50:26.419153Z</td>\n",
       "      <td>601332</td>\n",
       "    </tr>\n",
       "  </tbody>\n",
       "</table>\n",
       "</div>"
      ],
      "text/plain": [
       "   sensor_type value_type position unit   value                      created  \\\n",
       "1         FC28  watermark   inside    -  7506.0  2017-02-26T18:10:25.527352Z   \n",
       "8         FC28  watermark   inside    -  7866.0  2017-02-26T18:05:24.046715Z   \n",
       "15        FC28  watermark   inside    -  7911.0  2017-02-26T18:00:20.767143Z   \n",
       "22        FC28  watermark   inside    -  7906.0  2017-02-26T17:55:21.099111Z   \n",
       "29        FC28  watermark   inside    -  7890.0  2017-02-26T17:50:26.419153Z   \n",
       "\n",
       "    seconds_from_cycle_start  \n",
       "1                     602531  \n",
       "8                     602230  \n",
       "15                    601927  \n",
       "22                    601627  \n",
       "29                    601332  "
      ]
     },
     "execution_count": 17,
     "metadata": {},
     "output_type": "execute_result"
    }
   ],
   "source": [
    "df_water.head()"
   ]
  },
  {
   "cell_type": "code",
   "execution_count": 18,
   "metadata": {
    "collapsed": true
   },
   "outputs": [],
   "source": [
    "from bisect import bisect_left\n",
    "\n",
    "def return_closest(myList, myNumber):\n",
    "    pos = bisect_left(myList, myNumber)\n",
    "    if pos == 0:\n",
    "        return myList[0]\n",
    "    if pos == len(myList):\n",
    "        return myList[-1]\n",
    "    before = myList[pos - 1]\n",
    "    after = myList[pos]\n",
    "    if after - myNumber < myNumber - before:\n",
    "       return after\n",
    "    else:\n",
    "       return before"
   ]
  },
  {
   "cell_type": "markdown",
   "metadata": {},
   "source": [
    "correlate"
   ]
  },
  {
   "cell_type": "code",
   "execution_count": 19,
   "metadata": {},
   "outputs": [
    {
     "name": "stderr",
     "output_type": "stream",
     "text": [
      "100% (2008 of 2008) |#####################| Elapsed Time: 0:00:03 Time: 0:00:03\n"
     ]
    }
   ],
   "source": [
    "bar = progressbar.ProgressBar(max_value=len(df_photos))\n",
    "\n",
    "water_list_seconds = sorted(df_water['seconds_from_cycle_start'].values)\n",
    "for idx, photo_ds in bar(df_photos.iterrows()):\n",
    "    a = return_closest(water_list_seconds, photo_ds['seconds_from_cycle_start'])\n",
    "    df_photos.loc[idx, 'watermark'] = (df_water[df_water['seconds_from_cycle_start'] == a]['value']).values[0]\n",
    "    df_photos.loc[idx, 'watermark_seconds_from_start'] = a"
   ]
  },
  {
   "cell_type": "code",
   "execution_count": 20,
   "metadata": {
    "collapsed": true
   },
   "outputs": [],
   "source": [
    "df_photos[['watermark', 'watermark_seconds_from_start']] = df_photos[['watermark', 'watermark_seconds_from_start']].astype(int)"
   ]
  },
  {
   "cell_type": "code",
   "execution_count": 21,
   "metadata": {},
   "outputs": [
    {
     "data": {
      "text/html": [
       "<div>\n",
       "<table border=\"1\" class=\"dataframe\">\n",
       "  <thead>\n",
       "    <tr style=\"text-align: right;\">\n",
       "      <th></th>\n",
       "      <th>id</th>\n",
       "      <th>photo</th>\n",
       "      <th>created</th>\n",
       "      <th>seconds_from_cycle_start</th>\n",
       "      <th>watermark</th>\n",
       "      <th>watermark_seconds_from_start</th>\n",
       "    </tr>\n",
       "  </thead>\n",
       "  <tbody>\n",
       "    <tr>\n",
       "      <th>0</th>\n",
       "      <td>267123</td>\n",
       "      <td>https://cress.space/media/photo/c72/1488132601...</td>\n",
       "      <td>2017-02-26T18:10:17.231219Z</td>\n",
       "      <td>602523</td>\n",
       "      <td>7506</td>\n",
       "      <td>602531</td>\n",
       "    </tr>\n",
       "    <tr>\n",
       "      <th>1</th>\n",
       "      <td>267119</td>\n",
       "      <td>https://cress.space/media/photo/c72/1488132301...</td>\n",
       "      <td>2017-02-26T18:05:16.970436Z</td>\n",
       "      <td>602223</td>\n",
       "      <td>7866</td>\n",
       "      <td>602230</td>\n",
       "    </tr>\n",
       "    <tr>\n",
       "      <th>2</th>\n",
       "      <td>267113</td>\n",
       "      <td>https://cress.space/media/photo/c72/1488132001...</td>\n",
       "      <td>2017-02-26T18:00:13.378223Z</td>\n",
       "      <td>601919</td>\n",
       "      <td>7911</td>\n",
       "      <td>601927</td>\n",
       "    </tr>\n",
       "    <tr>\n",
       "      <th>3</th>\n",
       "      <td>267109</td>\n",
       "      <td>https://cress.space/media/photo/c72/1488131701...</td>\n",
       "      <td>2017-02-26T17:55:12.428359Z</td>\n",
       "      <td>601618</td>\n",
       "      <td>7906</td>\n",
       "      <td>601627</td>\n",
       "    </tr>\n",
       "    <tr>\n",
       "      <th>4</th>\n",
       "      <td>267107</td>\n",
       "      <td>https://cress.space/media/photo/c72/1488131401...</td>\n",
       "      <td>2017-02-26T17:50:18.687203Z</td>\n",
       "      <td>601325</td>\n",
       "      <td>7890</td>\n",
       "      <td>601332</td>\n",
       "    </tr>\n",
       "  </tbody>\n",
       "</table>\n",
       "</div>"
      ],
      "text/plain": [
       "       id                                              photo  \\\n",
       "0  267123  https://cress.space/media/photo/c72/1488132601...   \n",
       "1  267119  https://cress.space/media/photo/c72/1488132301...   \n",
       "2  267113  https://cress.space/media/photo/c72/1488132001...   \n",
       "3  267109  https://cress.space/media/photo/c72/1488131701...   \n",
       "4  267107  https://cress.space/media/photo/c72/1488131401...   \n",
       "\n",
       "                       created  seconds_from_cycle_start  watermark  \\\n",
       "0  2017-02-26T18:10:17.231219Z                    602523       7506   \n",
       "1  2017-02-26T18:05:16.970436Z                    602223       7866   \n",
       "2  2017-02-26T18:00:13.378223Z                    601919       7911   \n",
       "3  2017-02-26T17:55:12.428359Z                    601618       7906   \n",
       "4  2017-02-26T17:50:18.687203Z                    601325       7890   \n",
       "\n",
       "   watermark_seconds_from_start  \n",
       "0                        602531  \n",
       "1                        602230  \n",
       "2                        601927  \n",
       "3                        601627  \n",
       "4                        601332  "
      ]
     },
     "execution_count": 21,
     "metadata": {},
     "output_type": "execute_result"
    }
   ],
   "source": [
    "df_photos.head()"
   ]
  },
  {
   "cell_type": "code",
   "execution_count": 22,
   "metadata": {},
   "outputs": [],
   "source": [
    "df_photos.to_csv(\"data/photo_cycle_{}_enriched.csv\".format(cycle))"
   ]
  },
  {
   "cell_type": "code",
   "execution_count": null,
   "metadata": {
    "collapsed": true
   },
   "outputs": [],
   "source": []
  }
 ],
 "metadata": {
  "kernelspec": {
   "display_name": "Python 3",
   "language": "python",
   "name": "python3"
  },
  "language_info": {
   "codemirror_mode": {
    "name": "ipython",
    "version": 3
   },
   "file_extension": ".py",
   "mimetype": "text/x-python",
   "name": "python",
   "nbconvert_exporter": "python",
   "pygments_lexer": "ipython3",
   "version": "3.6.1"
  }
 },
 "nbformat": 4,
 "nbformat_minor": 2
}
